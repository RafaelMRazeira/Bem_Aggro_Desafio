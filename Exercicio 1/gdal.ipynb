{
 "cells": [
  {
   "cell_type": "markdown",
   "metadata": {},
   "source": [
    "## Get information and crop geo_tif files"
   ]
  },
  {
   "cell_type": "code",
   "execution_count": 1,
   "metadata": {},
   "outputs": [],
   "source": [
    "from osgeo import gdal, osr \n",
    "import numpy as np    \n",
    "import os\n",
    "import cv2"
   ]
  },
  {
   "cell_type": "markdown",
   "metadata": {},
   "source": [
    "#### Defining a class of utils_tif and methos to returns the desired information and crop the tiff image"
   ]
  },
  {
   "cell_type": "code",
   "execution_count": 2,
   "metadata": {},
   "outputs": [],
   "source": [
    "class Utils_tif:\n",
    "    \"\"\"\n",
    "    Class that returns a desired information and crop of a tif file  \n",
    "    \"\"\"\n",
    "        \n",
    "    def get_information_from_tif(self, path_to_tif):\n",
    "        \"\"\"\n",
    "        Function that returns a coordinates system, pixel resolution, size (height, width) and latitude/longitude \n",
    "        from a tif file\n",
    "\n",
    "        This Function receives:\n",
    "            path_to_tif: path to tif file to get the informations\n",
    "\n",
    "        return: a dictionary containing the name of information and your value. \n",
    "        return example: \n",
    "            {'coordinate_system': 'SIRGAS 2000', # str\n",
    "             'pixel_resolution': [0.1, 0.1], # list\n",
    "             'size': [2396, 3247], # list\n",
    "             'lat_long': (-19.06212225267312, -49.70194997381457, 0.0) # tuple\n",
    "             }\n",
    "        \"\"\"\n",
    "\n",
    "        # setup\n",
    "        \n",
    "        information_dict = {}\n",
    "        img = gdal.Open(img_path)\n",
    "        projetion = img.GetProjection()\n",
    "\n",
    "        # get the coordinates system\n",
    "        srs=osr.SpatialReference(wkt=projetion) \n",
    "        coordinate_system = srs.GetAttrValue('geogcs')\n",
    "\n",
    "        # get the pixel resolution\n",
    "        gt = img.GetGeoTransform()\n",
    "        pixel_X_resolution = gt[1]\n",
    "        pixel_Y_resolution = gt[5]\n",
    "\n",
    "        # get the length images in pixels\n",
    "        width = img.RasterXSize\n",
    "        height = img.RasterYSize\n",
    "\n",
    "        #get lat long from a tif\n",
    "        srs.ImportFromWkt(img.GetProjectionRef())\n",
    "\n",
    "        # create the new coordinate system\n",
    "        new_cs = osr.SpatialReference()\n",
    "        new_cs.ImportFromEPSG(4326)\n",
    "\n",
    "        # create a transform object to convert between coordinate systems\n",
    "        transform = osr.CoordinateTransformation(srs,new_cs) \n",
    "\n",
    "        minx = gt[0]\n",
    "        miny = gt[3] + width*gt[4] + height*gt[5] \n",
    "\n",
    "        #get the coordinates in lat long\n",
    "        lat_long = transform.TransformPoint(minx,miny) \n",
    "\n",
    "        information_dict['coordinate_system'] = coordinate_system\n",
    "        information_dict['pixel_resolution']  = [pixel_X_resolution, -pixel_Y_resolution]\n",
    "        information_dict['size']              = [width, height]\n",
    "        information_dict['lat_long']          = lat_long\n",
    "\n",
    "        return information_dict\n",
    "\n",
    "    def crop_image_and_save_windows(self, path_to_tif, len_window, path_to_save):\n",
    "        \n",
    "        \"\"\"\n",
    "        Function that crop a tif file in integers of size len_window x len_window and save then in path_to_save\n",
    "\n",
    "        This Function receives:\n",
    "            path_to_tif : path to tif file\n",
    "            len_window  : length of croped window to crop \n",
    "            path_to_save: path to save all the croped files of tif file\n",
    "\n",
    "        return: Nothing\n",
    "        \"\"\"\n",
    "        \n",
    "        img = gdal.Open(path_to_tif)\n",
    "        width = img.RasterXSize\n",
    "        height = img.RasterYSize\n",
    "        \n",
    "        # calculating the all windows in that tif\n",
    "        times_in_X = int(width/len_window)\n",
    "        times_in_Y = int(height/len_window)\n",
    "        \n",
    "        numpy_img = img.ReadAsArray()\n",
    "        \n",
    "        # transforming the shape of chanels first to chanels last (3,width, height) --> (width,heigth,3)\n",
    "        numpy_img = np.swapaxes(numpy_img,0,2)\n",
    "        \n",
    "        \"\"\"\n",
    "        Note this approach of crop looses the information of tif file.\n",
    "        \n",
    "        But as the choice to keep this information depends on the problem, \n",
    "        in this case I split the image without keeping it\n",
    "        \"\"\"\n",
    "        for x in range(times_in_X):\n",
    "            for y in range(times_in_Y):\n",
    "                crop_img = numpy_img[x*len_window:(x+1)*len_window, y*len_window:(y+1)*len_window]\n",
    "                cv2.imwrite(f'{path_to_save}/{x}_{y}.png', crop_img)"
   ]
  },
  {
   "cell_type": "markdown",
   "metadata": {},
   "source": [
    "#### Get the information of a first tif file"
   ]
  },
  {
   "cell_type": "code",
   "execution_count": 3,
   "metadata": {
    "scrolled": false
   },
   "outputs": [
    {
     "data": {
      "text/plain": [
       "{'coordinate_system': 'SIRGAS 2000',\n",
       " 'pixel_resolution': [0.1, 0.1],\n",
       " 'size': [2396, 3247],\n",
       " 'lat_long': (-19.06212225267312, -49.70194997381457, 0.0)}"
      ]
     },
     "execution_count": 3,
     "metadata": {},
     "output_type": "execute_result"
    }
   ],
   "source": [
    "utils_tif = Utils_tif()\n",
    "\n",
    "img_path = 'talhoes_tifs/4039_01_04 (1).tif'\n",
    "utils_tif.get_information_from_tif(img_path)"
   ]
  },
  {
   "cell_type": "markdown",
   "metadata": {},
   "source": [
    "#### Chossing 3 images, slicing then in parts of 256x256 and save"
   ]
  },
  {
   "cell_type": "code",
   "execution_count": 4,
   "metadata": {},
   "outputs": [
    {
     "name": "stdout",
     "output_type": "stream",
     "text": [
      "[Errno 17] File exists: 'Results/talhao_ponkan.tif'\n",
      "[Errno 17] File exists: 'Results/4039_01_04 (1).tif'\n",
      "[Errno 17] File exists: 'Results/talhao_santa_ana.tif'\n"
     ]
    }
   ],
   "source": [
    "path_dir = 'talhoes_tifs'\n",
    "\n",
    "list_all_images = os.listdir(path_dir)\n",
    "\n",
    "three_first_images = list_all_images[0:3]\n",
    "\n",
    "for tif in three_first_images:\n",
    "    \n",
    "    results_path = f'Results/{tif}'\n",
    "    try: \n",
    "        os.mkdir(results_path) \n",
    "    except OSError as error: \n",
    "        print(error) \n",
    "        \n",
    "    utils_tif.crop_image_and_save_windows(f'{path_dir}/{tif}', 256,results_path)"
   ]
  }
 ],
 "metadata": {
  "kernelspec": {
   "display_name": "Bem_aggro_env",
   "language": "python",
   "name": "bem_aggro_env"
  },
  "language_info": {
   "codemirror_mode": {
    "name": "ipython",
    "version": 3
   },
   "file_extension": ".py",
   "mimetype": "text/x-python",
   "name": "python",
   "nbconvert_exporter": "python",
   "pygments_lexer": "ipython3",
   "version": "3.8.5"
  }
 },
 "nbformat": 4,
 "nbformat_minor": 2
}
